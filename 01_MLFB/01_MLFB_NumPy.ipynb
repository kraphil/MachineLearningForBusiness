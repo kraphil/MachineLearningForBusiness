{
  "nbformat": 4,
  "nbformat_minor": 0,
  "metadata": {
    "colab": {
      "name": "01_MLFB_NumPy.ipynb",
      "provenance": []
    },
    "kernelspec": {
      "name": "python3",
      "display_name": "Python 3"
    },
    "language_info": {
      "name": "python"
    }
  },
  "cells": [
    {
      "cell_type": "code",
      "source": [
        "#Importieren der NumPy Bibliothek \n",
        "import numpy as np"
      ],
      "metadata": {
        "id": "frD_h4FIHIvS"
      },
      "execution_count": null,
      "outputs": []
    },
    {
      "cell_type": "markdown",
      "source": [
        "Beispiel 1: Arrays erstellen"
      ],
      "metadata": {
        "id": "Pkr6UeT7qu2M"
      }
    },
    {
      "cell_type": "code",
      "source": [
        "a = np.array([1,2,3,4,5])\n",
        "b = np.array([6,7,8,9,10])\n",
        "\n",
        "print(a)\n",
        "print(b)"
      ],
      "metadata": {
        "colab": {
          "base_uri": "https://localhost:8080/"
        },
        "id": "Sb4JJ_L8qvSI",
        "outputId": "6fcf9f5a-e1c4-461c-cd18-a88abead8909"
      },
      "execution_count": null,
      "outputs": [
        {
          "output_type": "stream",
          "name": "stdout",
          "text": [
            "[1 2 3 4 5]\n",
            "[ 6  7  8  9 10]\n"
          ]
        }
      ]
    },
    {
      "cell_type": "markdown",
      "source": [
        "Beispiel 2: 2 Arrays addieren"
      ],
      "metadata": {
        "id": "Wd36U1TdrbU8"
      }
    },
    {
      "cell_type": "code",
      "source": [
        "c = a+b\n",
        "print(c)"
      ],
      "metadata": {
        "colab": {
          "base_uri": "https://localhost:8080/"
        },
        "id": "954FV_UQrb2X",
        "outputId": "fadcd017-c31a-44e0-ca4d-c8193d5939f8"
      },
      "execution_count": null,
      "outputs": [
        {
          "output_type": "stream",
          "name": "stdout",
          "text": [
            "[ 7  9 11 13 15]\n"
          ]
        }
      ]
    },
    {
      "cell_type": "markdown",
      "source": [
        "Beispiel 3: 2 Arrays konkatenieren"
      ],
      "metadata": {
        "id": "pR6uTzoZsAXf"
      }
    },
    {
      "cell_type": "code",
      "source": [
        "d = np.concatenate((a, b))\n",
        "print(d)"
      ],
      "metadata": {
        "colab": {
          "base_uri": "https://localhost:8080/"
        },
        "id": "4ME3tlthsB0V",
        "outputId": "4a6a0c88-4512-4358-e8cd-1c8a4c315c3d"
      },
      "execution_count": null,
      "outputs": [
        {
          "output_type": "stream",
          "name": "stdout",
          "text": [
            "[ 1  2  3  4  5  6  7  8  9 10]\n"
          ]
        }
      ]
    },
    {
      "cell_type": "markdown",
      "source": [
        "Beispiel 4: Bestimmung statistischer Kennzahlen eines Datensatzes"
      ],
      "metadata": {
        "id": "jq2SxBGcFni_"
      }
    },
    {
      "cell_type": "code",
      "execution_count": null,
      "metadata": {
        "colab": {
          "base_uri": "https://localhost:8080/"
        },
        "id": "KQVZUjASxTRM",
        "outputId": "d8b223b1-fcb2-4872-a899-e925e6b926df"
      },
      "outputs": [
        {
          "output_type": "stream",
          "name": "stdout",
          "text": [
            "[[ 1 23 78]\n",
            " [98 60 75]\n",
            " [79 25 48]]\n",
            "1\n",
            "98\n"
          ]
        }
      ],
      "source": [
        "#Bestimmen von Minimum und Maximum\n",
        "\n",
        "arr = np.array([[1,23,78],[98,60,75],[79,25,48]])  \n",
        "print(arr)\n",
        "#Minimum Funktion\n",
        "print(np.amin(arr))\n",
        "#Maximum Funktion\n",
        "print(np.amax(arr))"
      ]
    },
    {
      "cell_type": "code",
      "source": [
        "#Bestimmen des Durchschnitts\n",
        "\n",
        "a = np.array([5,6,7]) \n",
        "print(a)\n",
        "print(np.mean(a))"
      ],
      "metadata": {
        "colab": {
          "base_uri": "https://localhost:8080/"
        },
        "id": "OtxNfxI_Kg1D",
        "outputId": "05a731a6-39e2-4b21-c90e-b3c9573b9138"
      },
      "execution_count": null,
      "outputs": [
        {
          "output_type": "stream",
          "name": "stdout",
          "text": [
            "[5 6 7]\n",
            "6.0\n"
          ]
        }
      ]
    },
    {
      "cell_type": "code",
      "source": [
        "#Bestimmen der Standardabweichung\n",
        "\n",
        "a = np.array([5,6,7]) \n",
        "print(a)\n",
        "print(np.std(a))"
      ],
      "metadata": {
        "colab": {
          "base_uri": "https://localhost:8080/"
        },
        "id": "l8TQquk1Kvpo",
        "outputId": "b486900b-83bc-4f5c-912b-2488c9913e61"
      },
      "execution_count": null,
      "outputs": [
        {
          "output_type": "stream",
          "name": "stdout",
          "text": [
            "[5 6 7]\n",
            "0.816496580927726\n"
          ]
        }
      ]
    },
    {
      "cell_type": "markdown",
      "source": [
        "Beispiel 5: Reshaping von Array-Dimensionen"
      ],
      "metadata": {
        "id": "g0FVlXU6F-u7"
      }
    },
    {
      "cell_type": "code",
      "source": [
        "#Reshaping eines Array\n",
        "\n",
        "#Erstellen eines 1-Dimensionalen Array\n",
        "oneDimensionalData = np.array([1, 2, 3, 4, 5, 6])\n",
        "\n",
        "print(oneDimensionalData)\n",
        "\n",
        "#Reshape in 2-Dimensionales Array\n",
        "twoDimensionalArray = oneDimensionalData.reshape(len(oneDimensionalData), 1)\n",
        "\n",
        "print(twoDimensionalArray)"
      ],
      "metadata": {
        "colab": {
          "base_uri": "https://localhost:8080/"
        },
        "id": "eZygbu4sGLGE",
        "outputId": "de8af559-326e-4114-88d6-0e70736022a1"
      },
      "execution_count": null,
      "outputs": [
        {
          "output_type": "stream",
          "name": "stdout",
          "text": [
            "[1 2 3 4 5 6]\n",
            "[[1]\n",
            " [2]\n",
            " [3]\n",
            " [4]\n",
            " [5]\n",
            " [6]]\n"
          ]
        }
      ]
    }
  ]
}